{
  "nbformat": 4,
  "nbformat_minor": 5,
  "metadata": {
    "kernelspec": {
      "name": "python3",
      "display_name": "Python 3"
    },
    "colab": {
      "provenance": [],
      "collapsed_sections": []
    },
    "language_info": {
      "name": "python"
    }
  },
  "cells": [
    {
      "cell_type": "markdown",
      "metadata": {
        "id": "a22dbb27"
      },
      "source": [
        "In the second part of this assignment, we will implement K-means Clustering and kernel K-means Clustering."
      ],
      "id": "a22dbb27"
    },
    {
      "cell_type": "code",
      "metadata": {
        "id": "ce48dff7"
      },
      "source": [
        "import numpy as np\n",
        "from sklearn.decomposition import PCA\n",
        "import matplotlib.pyplot as plt\n",
        "from sklearn import metrics"
      ],
      "id": "ce48dff7",
      "execution_count": null,
      "outputs": []
    },
    {
      "cell_type": "markdown",
      "metadata": {
        "id": "Hn5FASCJrL-f"
      },
      "source": [
        "**K-means Clustering Implementation**\n",
        "\n",
        "Follow the comments! They'll give you instructions on what to code."
      ],
      "id": "Hn5FASCJrL-f"
    },
    {
      "cell_type": "code",
      "metadata": {
        "id": "68430d22"
      },
      "source": [
        "def kmeans(data, k):\n",
        "    # First, randomly pick k data points for the centers of the initial clusters. Maybe you should use the np.random.choice() function.\n",
        "    # Afterwards, initialize the clusters.\n",
        "    raise NotImplementedError\n",
        "\n",
        "    # Update the clusters until convergence.\n",
        "    updated = True\n",
        "    while updated:\n",
        "        updated = False\n",
        "\n",
        "        # Calculate the cluster means.\n",
        "        raise NotImplementedError\n",
        "\n",
        "        # Find out which new cluster each data point belongs to\n",
        "        raise NotImplementedError\n",
        "\n",
        "        # Update the cluster allocation. If nothing changes, exit the loop and return the converged result.\n",
        "        raise NotImplementedError\n",
        "    return "
      ],
      "id": "68430d22",
      "execution_count": null,
      "outputs": []
    },
    {
      "cell_type": "markdown",
      "metadata": {
        "id": "hZimIlzPxNg2"
      },
      "source": [
        "**Kernel K-means Clustering Implementation**\n",
        "\n",
        "We will now implement Kernel K-means Clustering using a Gaussian kernel."
      ],
      "id": "hZimIlzPxNg2"
    },
    {
      "cell_type": "code",
      "metadata": {
        "id": "YhF7ECnGqkmH"
      },
      "source": [
        "# This function should return the cluster labels and the value of the objective function for kernel k-means.\n",
        "def kernel_kmeans(data, k, s, kernel = 'gaussian'):\n",
        "    # The variable s refers to the value of sigma in the Gaussian kernel.\n",
        "    # First, randomly pick k data points for the centers of the initial clusters. Maybe you should use the np.random.choice() function.\n",
        "    # Afterwards, initialize the clusters.\n",
        "    raise NotImplementedError\n",
        "    \n",
        "    # Pre-calculate kernel values and save it in a matrix.\n",
        "    # You can use sklearn.metrics.pairwise_distances(data) to get the pairwise distance of vectors in the data.\n",
        "    # Gaussian kernel\n",
        "    raise NotImplementedError\n",
        "\n",
        "    # Update the clusters until convergence.\n",
        "    updated = True\n",
        "    while updated:\n",
        "        \n",
        "        # Find out which new cluster each data point belongs to\n",
        "        raise NotImplementedError\n",
        "\n",
        "        # Update cluster allocation. If nothing changes, exit the loop and return the converged result.\n",
        "        raise NotImplementedError\n",
        "    return \n",
        "        "
      ],
      "id": "YhF7ECnGqkmH",
      "execution_count": null,
      "outputs": []
    },
    {
      "cell_type": "markdown",
      "metadata": {
        "id": "vskWAl3YWgRm"
      },
      "source": [
        "Now, implementation is done.\n",
        "\n",
        "Let's check the model's performance with an example we've seen in class.\n"
      ],
      "id": "vskWAl3YWgRm"
    },
    {
      "cell_type": "code",
      "metadata": {
        "id": "6v5Beqdpx_Z_"
      },
      "source": [
        "from sklearn.datasets import make_circles\n",
        "X, y = make_circles(n_samples=1000, noise = 0.1, factor = 0.3, random_state = 10) \n",
        "plt.figure()\n",
        "plt.scatter(X[y == 0, 0], X[y == 0, 1], color='red') \n",
        "plt.scatter(X[y == 1, 0], X[y == 1, 1], color='blue') \n",
        "plt.show()"
      ],
      "id": "6v5Beqdpx_Z_",
      "execution_count": null,
      "outputs": []
    },
    {
      "cell_type": "code",
      "metadata": {
        "id": "Ww8phoa9ytfB"
      },
      "source": [
        "# Run k-means clustering. This cell should print the NMI score of your model.\n",
        "raise NotImplementedError\n",
        "\n",
        "# Visualize the result of the k-means clustering.\n",
        "raise NotImplementedError"
      ],
      "id": "Ww8phoa9ytfB",
      "execution_count": null,
      "outputs": []
    },
    {
      "cell_type": "code",
      "metadata": {
        "id": "jMJ5_cwJy2zK"
      },
      "source": [
        "# Run k-means clustering. This cell should print the NMI score of your model.\n",
        "# Feel free to experiment with hyperparameter s (Use 0.5 as default)\n",
        "raise NotImplementedError\n",
        "\n",
        "# Visualize the result of the kernel k-means clustering.\n",
        "raise NotImplementedError"
      ],
      "id": "jMJ5_cwJy2zK",
      "execution_count": null,
      "outputs": []
    }
  ]
}